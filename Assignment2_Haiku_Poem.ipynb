{
  "cells": [
    {
      "cell_type": "code",
      "execution_count": 1,
      "metadata": {
        "id": "6U-f8tTnBMIO"
      },
      "outputs": [],
      "source": [
        "### function to add word in the poem list\n",
        "\n",
        "def add_word(word):                                                                              \n",
        "  if word in haiku:\n",
        "    return\n",
        "  else:\n",
        "    haiku.append(word)\n",
        "    ref_word = word\n",
        "  return word"
      ]
    },
    {
      "cell_type": "code",
      "execution_count": 2,
      "metadata": {
        "colab": {
          "base_uri": "https://localhost:8080/"
        },
        "id": "u1j2SS9YlA9y",
        "outputId": "e3c726c9-b8c7-4acb-e68c-71d8601dd32d"
      },
      "outputs": [
        {
          "name": "stdout",
          "output_type": "stream",
          "text": [
            "Hello! Welcome to the predictive text Haiku generator!\n",
            "\n",
            "What would you like to see a Haiku about : Teeth\n",
            "\n",
            "incisors erupt\n",
            "suddenly became corrupt\n",
            "practices disrupt\n",
            "\n",
            "Please enter 'yes' if you would like to repeat this exercise for some another word : Yes\n",
            "\n",
            "What would you like to see a Haiku about : Sleep\n",
            "\n",
            "Sorry, a valid haiku could not be created!\n",
            "\n",
            "Please enter 'yes' if you would like to repeat this exercise for some another word : Yes\n",
            "\n",
            "What would you like to see a Haiku about : Kindness\n",
            "\n",
            "gentleness towards\n",
            "another person records\n",
            "indicate rewards\n",
            "\n",
            "Please enter 'yes' if you would like to repeat this exercise for some another word : No\n"
          ]
        }
      ],
      "source": [
        "import json\n",
        "import requests\n",
        "haiku = []                                                                                        #empty list that will represent final poem\n",
        "haiku_loop = \"yes\"\n",
        "print(\"Hello! Welcome to the predictive text Haiku generator!\")\n",
        "while haiku_loop == \"yes\":\n",
        "  try:\n",
        "    usr_input = input(\"\\nWhat would you like to see a Haiku about : \")\n",
        "    ref_word = usr_input\n",
        "    a = 0\n",
        "    for a in range (0,7):\n",
        "      if a == 0:\n",
        "        url = \"https://api.datamuse.com/words?md=s&rel_trg=\" + ref_word                           #url for word0           \n",
        "      elif a == 1 or a == 2 or a == 3 or a == 5:\n",
        "        url = \"https://api.datamuse.com/words?md=s&lc=\" + haiku[a-1]                              #url for word1, word2, word3 and word5\n",
        "      elif a == 4:\n",
        "        url = \"https://api.datamuse.com/words?md=s&lc=\" + haiku[a-1] +\"&rel_rhy=\" + haiku[1]      #url for word4\n",
        "      elif a == 6:\n",
        "        url = \"https://api.datamuse.com/words?md=s&lc=\" + haiku[a-1] +\"&rel_rhy=\" + haiku[4]      #url for word6\n",
        "      req = requests.get(url)\n",
        "      if req.status_code == 200:\n",
        "        data0 = json.loads(req.text)\n",
        "        for z in data0:\n",
        "          if a == 0 or a == 2 or a ==5:\n",
        "            if z['numSyllables'] == 3:                                                            #condition to check no of syllables as 3\n",
        "              add_word(z['word'])                                                                 #calling function to add word to poem list\n",
        "              break\n",
        "          else:\n",
        "            if z['numSyllables'] == 2:                                                            #condition to check no of syllables as 2\n",
        "              add_word(z['word'])                                                                 #calling function to add word to poem list\n",
        "              break\n",
        "      elif req.status_code >= 300:                                                                #conditions for lost connections from the url\n",
        "        print(\"The site is redirecting. Couldn't connect successfully.\")\n",
        "      elif req.status_code >= 400:\n",
        "        print(\"Client error. Client has no access. Couldn't connect succesfully.\")\n",
        "      elif req.status_code >= 500:\n",
        "        print(\"Server error. Couldn't connect successfully.\")\n",
        "      else:\n",
        "        print(\"Couldn't connect successfully.\")\n",
        "    print(\"\\n\" + haiku[0] + \" \" + haiku[1] + \"\\n\" + haiku[2] + \" \" + haiku[3] + \" \" + haiku[4] + \"\\n\" + haiku[5] + \" \" + haiku[6])     #final Haiku poem\n",
        "  except:\n",
        "    print(\"\\nSorry, a valid haiku could not be created!\")\n",
        "  haiku.clear()                                                                                     #emptying haiku list so that it is ready for new poem if required\n",
        "  haiku_loop = input(\"\\nPlease enter 'yes' if you would like to repeat this exercise for some another word : \").lower()"
      ]
    },
    {
      "cell_type": "code",
      "execution_count": null,
      "metadata": {},
      "outputs": [],
      "source": []
    }
  ],
  "metadata": {
    "colab": {
      "collapsed_sections": [],
      "name": "Assignment2_Haiku_Poem.ipynb",
      "provenance": []
    },
    "kernelspec": {
      "display_name": "Python 3",
      "name": "python3"
    },
    "language_info": {
      "name": "python"
    }
  },
  "nbformat": 4,
  "nbformat_minor": 0
}
